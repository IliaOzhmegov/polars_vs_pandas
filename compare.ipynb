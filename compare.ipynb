{
 "cells": [
  {
   "cell_type": "code",
   "execution_count": 1,
   "metadata": {
    "pycharm": {
     "name": "#%%\n"
    }
   },
   "outputs": [],
   "source": [
    "import os\n",
    "import pandas as pd\n",
    "import polars as pl"
   ]
  },
  {
   "cell_type": "code",
   "execution_count": 2,
   "metadata": {
    "pycharm": {
     "name": "#%%\n"
    }
   },
   "outputs": [],
   "source": [
    "def find_path(filename):\n",
    "    path = \"./\"\n",
    "\n",
    "    filepath = \"\"\n",
    "    for root,d_names,f_names in os.walk(path):\n",
    "        if \"users.csv\" in f_names: break\n",
    "\n",
    "    filepath = \"\".join([root, \"/\", filename])\n",
    "    return filepath\n"
   ]
  },
  {
   "cell_type": "markdown",
   "metadata": {
    "pycharm": {
     "name": "#%% md\n"
    }
   },
   "source": [
    "## Pandas"
   ]
  },
  {
   "cell_type": "code",
   "execution_count": 3,
   "metadata": {
    "pycharm": {
     "name": "#%%\n"
    }
   },
   "outputs": [],
   "source": [
    "t = pd.read_csv(find_path(\"transactions.csv\"))\n",
    "u = pd.read_csv(find_path(\"users.csv\"))\n",
    "\n",
    "# join and filter\n",
    "f = pd.merge(t, u, on=\"user_id\", suffixes=('_trxn', '_user'))\n",
    "f = f.loc[(f.is_blocked_user == False) & (f.is_blocked_trxn == False)]\n",
    "\n",
    "\n",
    "# group and agregate\n",
    "res = (\n",
    "    f\n",
    "    .groupby(\"transaction_category_id\", as_index=False)\n",
    "    .agg(\n",
    "        {\n",
    "            'transaction_amount': \"sum\",\n",
    "            'user_id':            \"nunique\"\n",
    "        }\n",
    "    )\n",
    "    .rename(columns=\n",
    "        {\n",
    "            'transaction_amount': 'sum_amount',\n",
    "            'user_id':            'num_users'\n",
    "        }\n",
    "    )\n",
    "    .sort_values(by=['sum_amount'], ascending=False)\n",
    ")"
   ]
  },
  {
   "cell_type": "code",
   "execution_count": 4,
   "metadata": {
    "pycharm": {
     "name": "#%%\n"
    }
   },
   "outputs": [
    {
     "data": {
      "text/html": [
       "<div>\n",
       "<style scoped>\n",
       "    .dataframe tbody tr th:only-of-type {\n",
       "        vertical-align: middle;\n",
       "    }\n",
       "\n",
       "    .dataframe tbody tr th {\n",
       "        vertical-align: top;\n",
       "    }\n",
       "\n",
       "    .dataframe thead th {\n",
       "        text-align: right;\n",
       "    }\n",
       "</style>\n",
       "<table border=\"1\" class=\"dataframe\">\n",
       "  <thead>\n",
       "    <tr style=\"text-align: right;\">\n",
       "      <th></th>\n",
       "      <th>transaction_category_id</th>\n",
       "      <th>sum_amount</th>\n",
       "      <th>num_users</th>\n",
       "    </tr>\n",
       "  </thead>\n",
       "  <tbody>\n",
       "    <tr>\n",
       "      <th>2</th>\n",
       "      <td>2</td>\n",
       "      <td>5798.38</td>\n",
       "      <td>752</td>\n",
       "    </tr>\n",
       "    <tr>\n",
       "      <th>7</th>\n",
       "      <td>7</td>\n",
       "      <td>1305.54</td>\n",
       "      <td>63</td>\n",
       "    </tr>\n",
       "    <tr>\n",
       "      <th>8</th>\n",
       "      <td>8</td>\n",
       "      <td>-44.61</td>\n",
       "      <td>22</td>\n",
       "    </tr>\n",
       "    <tr>\n",
       "      <th>1</th>\n",
       "      <td>1</td>\n",
       "      <td>-732.80</td>\n",
       "      <td>734</td>\n",
       "    </tr>\n",
       "    <tr>\n",
       "      <th>6</th>\n",
       "      <td>6</td>\n",
       "      <td>-1975.81</td>\n",
       "      <td>200</td>\n",
       "    </tr>\n",
       "    <tr>\n",
       "      <th>5</th>\n",
       "      <td>5</td>\n",
       "      <td>-5241.47</td>\n",
       "      <td>408</td>\n",
       "    </tr>\n",
       "    <tr>\n",
       "      <th>0</th>\n",
       "      <td>0</td>\n",
       "      <td>-12952.93</td>\n",
       "      <td>538</td>\n",
       "    </tr>\n",
       "    <tr>\n",
       "      <th>3</th>\n",
       "      <td>3</td>\n",
       "      <td>-14186.12</td>\n",
       "      <td>693</td>\n",
       "    </tr>\n",
       "    <tr>\n",
       "      <th>4</th>\n",
       "      <td>4</td>\n",
       "      <td>-17524.64</td>\n",
       "      <td>596</td>\n",
       "    </tr>\n",
       "  </tbody>\n",
       "</table>\n",
       "</div>"
      ],
      "text/plain": [
       "   transaction_category_id  sum_amount  num_users\n",
       "2                        2     5798.38        752\n",
       "7                        7     1305.54         63\n",
       "8                        8      -44.61         22\n",
       "1                        1     -732.80        734\n",
       "6                        6    -1975.81        200\n",
       "5                        5    -5241.47        408\n",
       "0                        0   -12952.93        538\n",
       "3                        3   -14186.12        693\n",
       "4                        4   -17524.64        596"
      ]
     },
     "execution_count": 4,
     "metadata": {},
     "output_type": "execute_result"
    }
   ],
   "source": [
    "res"
   ]
  },
  {
   "cell_type": "markdown",
   "metadata": {
    "pycharm": {
     "name": "#%% md\n"
    }
   },
   "source": [
    "## Polars"
   ]
  },
  {
   "cell_type": "code",
   "execution_count": 5,
   "metadata": {
    "pycharm": {
     "name": "#%%\n"
    }
   },
   "outputs": [],
   "source": [
    "# read data\n",
    "t = pl.read_csv(find_path(\"transactions.csv\"))\n",
    "u = pl.read_csv(find_path(\"users.csv\"))\n",
    "\n",
    "\n",
    "# join, filter, group and agregate\n",
    "res = (\n",
    "    t\n",
    "    .join(u, on=\"user_id\", suffix=\"_user\")\n",
    "    .filter((pl.col(\"is_blocked\") == False) & (pl.col(\"is_blocked_user\") == False))\n",
    "\n",
    "    .groupby(\"transaction_category_id\")\n",
    "    .agg(\n",
    "        [\n",
    "            pl.sum     (\"transaction_amount\").alias(\"sum_amount\"),\n",
    "            pl.n_unique(\"user_id\")           .alias(\"num_users\"),\n",
    "        ]\n",
    "    )\n",
    "    .sort(\"sum_amount\", reverse=True)\n",
    ")"
   ]
  },
  {
   "cell_type": "code",
   "execution_count": 6,
   "metadata": {
    "pycharm": {
     "name": "#%%\n"
    }
   },
   "outputs": [
    {
     "data": {
      "text/html": [
       "<div>\n",
       "<style scoped>\n",
       "    .dataframe tbody tr th:only-of-type {\n",
       "        vertical-align: middle;\n",
       "    }\n",
       "\n",
       "    .dataframe tbody tr th {\n",
       "        vertical-align: top;\n",
       "    }\n",
       "\n",
       "    .dataframe thead th {\n",
       "        text-align: right;\n",
       "    }\n",
       "</style>\n",
       "<table border=\"1 \"class=\"dataframe \">\n",
       "<thead>\n",
       "<tr>\n",
       "<th>\n",
       "transaction_category_id\n",
       "</th>\n",
       "<th>\n",
       "sum_amount\n",
       "</th>\n",
       "<th>\n",
       "num_users\n",
       "</th>\n",
       "</tr>\n",
       "<tr>\n",
       "<td>\n",
       "i64\n",
       "</td>\n",
       "<td>\n",
       "f64\n",
       "</td>\n",
       "<td>\n",
       "u32\n",
       "</td>\n",
       "</tr>\n",
       "</thead>\n",
       "<tbody>\n",
       "<tr>\n",
       "<td>\n",
       "<pre>2</pre>\n",
       "</td>\n",
       "<td>\n",
       "<pre>5798.38</pre>\n",
       "</td>\n",
       "<td>\n",
       "<pre>752</pre>\n",
       "</td>\n",
       "</tr>\n",
       "<tr>\n",
       "<td>\n",
       "<pre>7</pre>\n",
       "</td>\n",
       "<td>\n",
       "<pre>1305.54</pre>\n",
       "</td>\n",
       "<td>\n",
       "<pre>63</pre>\n",
       "</td>\n",
       "</tr>\n",
       "<tr>\n",
       "<td>\n",
       "<pre>8</pre>\n",
       "</td>\n",
       "<td>\n",
       "<pre>-44.61</pre>\n",
       "</td>\n",
       "<td>\n",
       "<pre>22</pre>\n",
       "</td>\n",
       "</tr>\n",
       "<tr>\n",
       "<td>\n",
       "<pre>1</pre>\n",
       "</td>\n",
       "<td>\n",
       "<pre>-732.8</pre>\n",
       "</td>\n",
       "<td>\n",
       "<pre>734</pre>\n",
       "</td>\n",
       "</tr>\n",
       "<tr>\n",
       "<td>\n",
       "<pre>6</pre>\n",
       "</td>\n",
       "<td>\n",
       "<pre>-1975.81</pre>\n",
       "</td>\n",
       "<td>\n",
       "<pre>200</pre>\n",
       "</td>\n",
       "</tr>\n",
       "<tr>\n",
       "<td>\n",
       "<pre>5</pre>\n",
       "</td>\n",
       "<td>\n",
       "<pre>-5241.47</pre>\n",
       "</td>\n",
       "<td>\n",
       "<pre>408</pre>\n",
       "</td>\n",
       "</tr>\n",
       "<tr>\n",
       "<td>\n",
       "<pre>0</pre>\n",
       "</td>\n",
       "<td>\n",
       "<pre>-12952.93</pre>\n",
       "</td>\n",
       "<td>\n",
       "<pre>538</pre>\n",
       "</td>\n",
       "</tr>\n",
       "<tr>\n",
       "<td>\n",
       "<pre>3</pre>\n",
       "</td>\n",
       "<td>\n",
       "<pre>-14186.12</pre>\n",
       "</td>\n",
       "<td>\n",
       "<pre>693</pre>\n",
       "</td>\n",
       "</tr>\n",
       "<tr>\n",
       "<td>\n",
       "<pre>4</pre>\n",
       "</td>\n",
       "<td>\n",
       "<pre>-17524.64</pre>\n",
       "</td>\n",
       "<td>\n",
       "<pre>596</pre>\n",
       "</td>\n",
       "</tr>\n",
       "</tbody>\n",
       "</table>\n",
       "</div>"
      ],
      "text/plain": [
       "shape: (9, 3)\n",
       "┌─────────────────────────┬────────────┬───────────┐\n",
       "│ transaction_category_id ┆ sum_amount ┆ num_users │\n",
       "│ ---                     ┆ ---        ┆ ---       │\n",
       "│ i64                     ┆ f64        ┆ u32       │\n",
       "╞═════════════════════════╪════════════╪═══════════╡\n",
       "│ 2                       ┆ 5798.38    ┆ 752       │\n",
       "├╌╌╌╌╌╌╌╌╌╌╌╌╌╌╌╌╌╌╌╌╌╌╌╌╌┼╌╌╌╌╌╌╌╌╌╌╌╌┼╌╌╌╌╌╌╌╌╌╌╌┤\n",
       "│ 7                       ┆ 1305.54    ┆ 63        │\n",
       "├╌╌╌╌╌╌╌╌╌╌╌╌╌╌╌╌╌╌╌╌╌╌╌╌╌┼╌╌╌╌╌╌╌╌╌╌╌╌┼╌╌╌╌╌╌╌╌╌╌╌┤\n",
       "│ 8                       ┆ -44.61     ┆ 22        │\n",
       "├╌╌╌╌╌╌╌╌╌╌╌╌╌╌╌╌╌╌╌╌╌╌╌╌╌┼╌╌╌╌╌╌╌╌╌╌╌╌┼╌╌╌╌╌╌╌╌╌╌╌┤\n",
       "│ 1                       ┆ -732.8     ┆ 734       │\n",
       "├╌╌╌╌╌╌╌╌╌╌╌╌╌╌╌╌╌╌╌╌╌╌╌╌╌┼╌╌╌╌╌╌╌╌╌╌╌╌┼╌╌╌╌╌╌╌╌╌╌╌┤\n",
       "│ ...                     ┆ ...        ┆ ...       │\n",
       "├╌╌╌╌╌╌╌╌╌╌╌╌╌╌╌╌╌╌╌╌╌╌╌╌╌┼╌╌╌╌╌╌╌╌╌╌╌╌┼╌╌╌╌╌╌╌╌╌╌╌┤\n",
       "│ 5                       ┆ -5241.47   ┆ 408       │\n",
       "├╌╌╌╌╌╌╌╌╌╌╌╌╌╌╌╌╌╌╌╌╌╌╌╌╌┼╌╌╌╌╌╌╌╌╌╌╌╌┼╌╌╌╌╌╌╌╌╌╌╌┤\n",
       "│ 0                       ┆ -12952.93  ┆ 538       │\n",
       "├╌╌╌╌╌╌╌╌╌╌╌╌╌╌╌╌╌╌╌╌╌╌╌╌╌┼╌╌╌╌╌╌╌╌╌╌╌╌┼╌╌╌╌╌╌╌╌╌╌╌┤\n",
       "│ 3                       ┆ -14186.12  ┆ 693       │\n",
       "├╌╌╌╌╌╌╌╌╌╌╌╌╌╌╌╌╌╌╌╌╌╌╌╌╌┼╌╌╌╌╌╌╌╌╌╌╌╌┼╌╌╌╌╌╌╌╌╌╌╌┤\n",
       "│ 4                       ┆ -17524.64  ┆ 596       │\n",
       "└─────────────────────────┴────────────┴───────────┘"
      ]
     },
     "execution_count": 6,
     "metadata": {},
     "output_type": "execute_result"
    }
   ],
   "source": [
    "res"
   ]
  },
  {
   "cell_type": "code",
   "execution_count": null,
   "metadata": {},
   "outputs": [],
   "source": []
  }
 ],
 "metadata": {
  "kernelspec": {
   "display_name": "Python 3 (ipykernel)",
   "language": "python",
   "name": "python3"
  },
  "language_info": {
   "codemirror_mode": {
    "name": "ipython",
    "version": 3
   },
   "file_extension": ".py",
   "mimetype": "text/x-python",
   "name": "python",
   "nbconvert_exporter": "python",
   "pygments_lexer": "ipython3",
   "version": "3.8.9"
  }
 },
 "nbformat": 4,
 "nbformat_minor": 1
}