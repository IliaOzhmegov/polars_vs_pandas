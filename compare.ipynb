{
 "cells": [
  {
   "cell_type": "code",
   "execution_count": 1,
   "metadata": {
    "pycharm": {
     "name": "#%%\n"
    }
   },
   "outputs": [],
   "source": [
    "import os\n",
    "import pandas as pd\n",
    "import polars as pl"
   ]
  },
  {
   "cell_type": "code",
   "execution_count": 2,
   "metadata": {
    "pycharm": {
     "name": "#%%\n"
    }
   },
   "outputs": [],
   "source": [
    "def find_path(filename):\n",
    "    path = \"./\"\n",
    "\n",
    "    filepath = \"\"\n",
    "    for root,d_names,f_names in os.walk(path):\n",
    "        if \"users.csv\" in f_names: break\n",
    "\n",
    "    filepath = \"\".join([root, \"/\", filename])\n",
    "    return filepath\n"
   ]
  },
  {
   "cell_type": "code",
   "execution_count": 11,
   "outputs": [
    {
     "data": {
      "text/plain": "                              transaction_id        date  transaction_amount  \\\n0       135d739a-71d0-440c-8497-e3e558e39d3d  2022-01-05               29.81   \n1       8518b69e-54e5-48cf-836d-14524cdc3081  2021-07-11             -240.11   \n2       9f5d810c-b4d5-4ba7-96d6-cca44aaeb14e  2022-03-01              376.03   \n3       89decfb4-198c-4d78-8e19-650dbc216b36  2021-07-15              169.01   \n4       55650689-8a75-4b6c-b76e-b03a74e0746c  2021-08-19             -206.71   \n...                                      ...         ...                 ...   \n999995  eae6c97e-5ac3-43b5-829b-e7c7e2f390de  2021-11-24              109.71   \n999996  ebb28546-a097-474b-8b9d-7d3553b1de0a  2022-01-13              135.40   \n999997  18440cce-9df2-4418-a7bf-ec99f8613aac  2021-08-14                2.68   \n999998  6ba7846a-9048-4ff0-bc21-891ca9f9c2fd  2021-07-11             -262.80   \n999999  db8114ce-e0b0-4d84-a98a-0aa9ce737b66  2021-10-23              364.84   \n\n        transaction_category_id  is_blocked  \\\n0                             2        True   \n1                             4        True   \n2                             3        True   \n3                             5        True   \n4                             2        True   \n...                         ...         ...   \n999995                        0        True   \n999996                        3        True   \n999997                        2        True   \n999998                        3        True   \n999999                        2        True   \n\n                                     user_id  \n0       e671de68-5273-426d-9026-9dbc224d7619  \n1       cc80804a-3ee9-4101-be74-94b412ab18a0  \n2       6fb14ef9-9a95-407f-a383-07c753206fcd  \n3       71efc6c5-3397-4cae-9057-95047a59d1ff  \n4       b68247d9-b167-4142-a33e-60d5db1331a1  \n...                                      ...  \n999995  ecfb3bd3-9205-4af3-b708-3174a51859df  \n999996  79c17f6d-3a0d-4557-9ca9-b1979904e3b3  \n999997  39a6a82e-b0ad-43cd-936d-0100213d4df3  \n999998  d6dca04b-636e-4aa4-a314-561d636712f0  \n999999  f189d28c-6333-4273-b768-86e53af1e40a  \n\n[1000000 rows x 6 columns]",
      "text/html": "<div>\n<style scoped>\n    .dataframe tbody tr th:only-of-type {\n        vertical-align: middle;\n    }\n\n    .dataframe tbody tr th {\n        vertical-align: top;\n    }\n\n    .dataframe thead th {\n        text-align: right;\n    }\n</style>\n<table border=\"1\" class=\"dataframe\">\n  <thead>\n    <tr style=\"text-align: right;\">\n      <th></th>\n      <th>transaction_id</th>\n      <th>date</th>\n      <th>transaction_amount</th>\n      <th>transaction_category_id</th>\n      <th>is_blocked</th>\n      <th>user_id</th>\n    </tr>\n  </thead>\n  <tbody>\n    <tr>\n      <th>0</th>\n      <td>135d739a-71d0-440c-8497-e3e558e39d3d</td>\n      <td>2022-01-05</td>\n      <td>29.81</td>\n      <td>2</td>\n      <td>True</td>\n      <td>e671de68-5273-426d-9026-9dbc224d7619</td>\n    </tr>\n    <tr>\n      <th>1</th>\n      <td>8518b69e-54e5-48cf-836d-14524cdc3081</td>\n      <td>2021-07-11</td>\n      <td>-240.11</td>\n      <td>4</td>\n      <td>True</td>\n      <td>cc80804a-3ee9-4101-be74-94b412ab18a0</td>\n    </tr>\n    <tr>\n      <th>2</th>\n      <td>9f5d810c-b4d5-4ba7-96d6-cca44aaeb14e</td>\n      <td>2022-03-01</td>\n      <td>376.03</td>\n      <td>3</td>\n      <td>True</td>\n      <td>6fb14ef9-9a95-407f-a383-07c753206fcd</td>\n    </tr>\n    <tr>\n      <th>3</th>\n      <td>89decfb4-198c-4d78-8e19-650dbc216b36</td>\n      <td>2021-07-15</td>\n      <td>169.01</td>\n      <td>5</td>\n      <td>True</td>\n      <td>71efc6c5-3397-4cae-9057-95047a59d1ff</td>\n    </tr>\n    <tr>\n      <th>4</th>\n      <td>55650689-8a75-4b6c-b76e-b03a74e0746c</td>\n      <td>2021-08-19</td>\n      <td>-206.71</td>\n      <td>2</td>\n      <td>True</td>\n      <td>b68247d9-b167-4142-a33e-60d5db1331a1</td>\n    </tr>\n    <tr>\n      <th>...</th>\n      <td>...</td>\n      <td>...</td>\n      <td>...</td>\n      <td>...</td>\n      <td>...</td>\n      <td>...</td>\n    </tr>\n    <tr>\n      <th>999995</th>\n      <td>eae6c97e-5ac3-43b5-829b-e7c7e2f390de</td>\n      <td>2021-11-24</td>\n      <td>109.71</td>\n      <td>0</td>\n      <td>True</td>\n      <td>ecfb3bd3-9205-4af3-b708-3174a51859df</td>\n    </tr>\n    <tr>\n      <th>999996</th>\n      <td>ebb28546-a097-474b-8b9d-7d3553b1de0a</td>\n      <td>2022-01-13</td>\n      <td>135.40</td>\n      <td>3</td>\n      <td>True</td>\n      <td>79c17f6d-3a0d-4557-9ca9-b1979904e3b3</td>\n    </tr>\n    <tr>\n      <th>999997</th>\n      <td>18440cce-9df2-4418-a7bf-ec99f8613aac</td>\n      <td>2021-08-14</td>\n      <td>2.68</td>\n      <td>2</td>\n      <td>True</td>\n      <td>39a6a82e-b0ad-43cd-936d-0100213d4df3</td>\n    </tr>\n    <tr>\n      <th>999998</th>\n      <td>6ba7846a-9048-4ff0-bc21-891ca9f9c2fd</td>\n      <td>2021-07-11</td>\n      <td>-262.80</td>\n      <td>3</td>\n      <td>True</td>\n      <td>d6dca04b-636e-4aa4-a314-561d636712f0</td>\n    </tr>\n    <tr>\n      <th>999999</th>\n      <td>db8114ce-e0b0-4d84-a98a-0aa9ce737b66</td>\n      <td>2021-10-23</td>\n      <td>364.84</td>\n      <td>2</td>\n      <td>True</td>\n      <td>f189d28c-6333-4273-b768-86e53af1e40a</td>\n    </tr>\n  </tbody>\n</table>\n<p>1000000 rows × 6 columns</p>\n</div>"
     },
     "execution_count": 11,
     "metadata": {},
     "output_type": "execute_result"
    }
   ],
   "source": [
    "t"
   ],
   "metadata": {
    "collapsed": false,
    "pycharm": {
     "name": "#%%\n"
    }
   }
  },
  {
   "cell_type": "code",
   "execution_count": 12,
   "outputs": [
    {
     "ename": "KeyError",
     "evalue": "'False: boolean label can not be used without a boolean index'",
     "output_type": "error",
     "traceback": [
      "\u001B[0;31m---------------------------------------------------------------------------\u001B[0m",
      "\u001B[0;31mKeyError\u001B[0m                                  Traceback (most recent call last)",
      "Input \u001B[0;32mIn [12]\u001B[0m, in \u001B[0;36m<cell line: 2>\u001B[0;34m()\u001B[0m\n\u001B[1;32m      1\u001B[0m f \u001B[38;5;241m=\u001B[39m pd\u001B[38;5;241m.\u001B[39mmerge(t, u, on\u001B[38;5;241m=\u001B[39m\u001B[38;5;124m\"\u001B[39m\u001B[38;5;124muser_id\u001B[39m\u001B[38;5;124m\"\u001B[39m, suffixes\u001B[38;5;241m=\u001B[39m(\u001B[38;5;124m'\u001B[39m\u001B[38;5;124m_trxn\u001B[39m\u001B[38;5;124m'\u001B[39m, \u001B[38;5;124m'\u001B[39m\u001B[38;5;124m_user\u001B[39m\u001B[38;5;124m'\u001B[39m))\n\u001B[0;32m----> 2\u001B[0m f \u001B[38;5;241m=\u001B[39m \u001B[43mf\u001B[49m\u001B[38;5;241;43m.\u001B[39;49m\u001B[43mloc\u001B[49m\u001B[43m[\u001B[49m\u001B[43m(\u001B[49m\u001B[38;5;124;43m\"\u001B[39;49m\u001B[38;5;124;43mis_blocked_user\u001B[39;49m\u001B[38;5;124;43m\"\u001B[39;49m\u001B[43m \u001B[49m\u001B[38;5;241;43m==\u001B[39;49m\u001B[43m \u001B[49m\u001B[38;5;28;43;01mFalse\u001B[39;49;00m\u001B[43m)\u001B[49m\u001B[43m \u001B[49m\u001B[38;5;241;43m&\u001B[39;49m\u001B[43m \u001B[49m\u001B[43m(\u001B[49m\u001B[38;5;124;43m\"\u001B[39;49m\u001B[38;5;124;43mis_blocked_trxn\u001B[39;49m\u001B[38;5;124;43m\"\u001B[39;49m\u001B[43m \u001B[49m\u001B[38;5;241;43m==\u001B[39;49m\u001B[43m \u001B[49m\u001B[38;5;28;43;01mFalse\u001B[39;49;00m\u001B[43m)\u001B[49m\u001B[43m]\u001B[49m\n",
      "File \u001B[0;32m~/Projects/2.Medium/Polars vs Pandas/venv/lib/python3.8/site-packages/pandas/core/indexing.py:967\u001B[0m, in \u001B[0;36m_LocationIndexer.__getitem__\u001B[0;34m(self, key)\u001B[0m\n\u001B[1;32m    964\u001B[0m axis \u001B[38;5;241m=\u001B[39m \u001B[38;5;28mself\u001B[39m\u001B[38;5;241m.\u001B[39maxis \u001B[38;5;129;01mor\u001B[39;00m \u001B[38;5;241m0\u001B[39m\n\u001B[1;32m    966\u001B[0m maybe_callable \u001B[38;5;241m=\u001B[39m com\u001B[38;5;241m.\u001B[39mapply_if_callable(key, \u001B[38;5;28mself\u001B[39m\u001B[38;5;241m.\u001B[39mobj)\n\u001B[0;32m--> 967\u001B[0m \u001B[38;5;28;01mreturn\u001B[39;00m \u001B[38;5;28;43mself\u001B[39;49m\u001B[38;5;241;43m.\u001B[39;49m\u001B[43m_getitem_axis\u001B[49m\u001B[43m(\u001B[49m\u001B[43mmaybe_callable\u001B[49m\u001B[43m,\u001B[49m\u001B[43m \u001B[49m\u001B[43maxis\u001B[49m\u001B[38;5;241;43m=\u001B[39;49m\u001B[43maxis\u001B[49m\u001B[43m)\u001B[49m\n",
      "File \u001B[0;32m~/Projects/2.Medium/Polars vs Pandas/venv/lib/python3.8/site-packages/pandas/core/indexing.py:1201\u001B[0m, in \u001B[0;36m_LocIndexer._getitem_axis\u001B[0;34m(self, key, axis)\u001B[0m\n\u001B[1;32m   1198\u001B[0m         \u001B[38;5;28;01mreturn\u001B[39;00m \u001B[38;5;28mself\u001B[39m\u001B[38;5;241m.\u001B[39mobj\u001B[38;5;241m.\u001B[39miloc[\u001B[38;5;28mtuple\u001B[39m(indexer)]\n\u001B[1;32m   1200\u001B[0m \u001B[38;5;66;03m# fall thru to straight lookup\u001B[39;00m\n\u001B[0;32m-> 1201\u001B[0m \u001B[38;5;28;43mself\u001B[39;49m\u001B[38;5;241;43m.\u001B[39;49m\u001B[43m_validate_key\u001B[49m\u001B[43m(\u001B[49m\u001B[43mkey\u001B[49m\u001B[43m,\u001B[49m\u001B[43m \u001B[49m\u001B[43maxis\u001B[49m\u001B[43m)\u001B[49m\n\u001B[1;32m   1202\u001B[0m \u001B[38;5;28;01mreturn\u001B[39;00m \u001B[38;5;28mself\u001B[39m\u001B[38;5;241m.\u001B[39m_get_label(key, axis\u001B[38;5;241m=\u001B[39maxis)\n",
      "File \u001B[0;32m~/Projects/2.Medium/Polars vs Pandas/venv/lib/python3.8/site-packages/pandas/core/indexing.py:1011\u001B[0m, in \u001B[0;36m_LocIndexer._validate_key\u001B[0;34m(self, key, axis)\u001B[0m\n\u001B[1;32m   1001\u001B[0m \u001B[38;5;129m@doc\u001B[39m(_LocationIndexer\u001B[38;5;241m.\u001B[39m_validate_key)\n\u001B[1;32m   1002\u001B[0m \u001B[38;5;28;01mdef\u001B[39;00m \u001B[38;5;21m_validate_key\u001B[39m(\u001B[38;5;28mself\u001B[39m, key, axis: \u001B[38;5;28mint\u001B[39m):\n\u001B[1;32m   1003\u001B[0m     \u001B[38;5;66;03m# valid for a collection of labels (we check their presence later)\u001B[39;00m\n\u001B[1;32m   1004\u001B[0m     \u001B[38;5;66;03m# slice of labels (where start-end in labels)\u001B[39;00m\n\u001B[1;32m   1005\u001B[0m     \u001B[38;5;66;03m# slice of integers (only if in the labels)\u001B[39;00m\n\u001B[1;32m   1006\u001B[0m     \u001B[38;5;66;03m# boolean not in slice and with boolean index\u001B[39;00m\n\u001B[1;32m   1007\u001B[0m     \u001B[38;5;28;01mif\u001B[39;00m \u001B[38;5;28misinstance\u001B[39m(key, \u001B[38;5;28mbool\u001B[39m) \u001B[38;5;129;01mand\u001B[39;00m \u001B[38;5;129;01mnot\u001B[39;00m (\n\u001B[1;32m   1008\u001B[0m         is_bool_dtype(\u001B[38;5;28mself\u001B[39m\u001B[38;5;241m.\u001B[39mobj\u001B[38;5;241m.\u001B[39m_get_axis(axis))\n\u001B[1;32m   1009\u001B[0m         \u001B[38;5;129;01mor\u001B[39;00m \u001B[38;5;28mself\u001B[39m\u001B[38;5;241m.\u001B[39mobj\u001B[38;5;241m.\u001B[39m_get_axis(axis)\u001B[38;5;241m.\u001B[39mdtype\u001B[38;5;241m.\u001B[39mname \u001B[38;5;241m==\u001B[39m \u001B[38;5;124m\"\u001B[39m\u001B[38;5;124mboolean\u001B[39m\u001B[38;5;124m\"\u001B[39m\n\u001B[1;32m   1010\u001B[0m     ):\n\u001B[0;32m-> 1011\u001B[0m         \u001B[38;5;28;01mraise\u001B[39;00m \u001B[38;5;167;01mKeyError\u001B[39;00m(\n\u001B[1;32m   1012\u001B[0m             \u001B[38;5;124mf\u001B[39m\u001B[38;5;124m\"\u001B[39m\u001B[38;5;132;01m{\u001B[39;00mkey\u001B[38;5;132;01m}\u001B[39;00m\u001B[38;5;124m: boolean label can not be used without a boolean index\u001B[39m\u001B[38;5;124m\"\u001B[39m\n\u001B[1;32m   1013\u001B[0m         )\n\u001B[1;32m   1015\u001B[0m     \u001B[38;5;28;01mif\u001B[39;00m \u001B[38;5;28misinstance\u001B[39m(key, \u001B[38;5;28mslice\u001B[39m) \u001B[38;5;129;01mand\u001B[39;00m (\n\u001B[1;32m   1016\u001B[0m         \u001B[38;5;28misinstance\u001B[39m(key\u001B[38;5;241m.\u001B[39mstart, \u001B[38;5;28mbool\u001B[39m) \u001B[38;5;129;01mor\u001B[39;00m \u001B[38;5;28misinstance\u001B[39m(key\u001B[38;5;241m.\u001B[39mstop, \u001B[38;5;28mbool\u001B[39m)\n\u001B[1;32m   1017\u001B[0m     ):\n\u001B[1;32m   1018\u001B[0m         \u001B[38;5;28;01mraise\u001B[39;00m \u001B[38;5;167;01mTypeError\u001B[39;00m(\u001B[38;5;124mf\u001B[39m\u001B[38;5;124m\"\u001B[39m\u001B[38;5;132;01m{\u001B[39;00mkey\u001B[38;5;132;01m}\u001B[39;00m\u001B[38;5;124m: boolean values can not be used in a slice\u001B[39m\u001B[38;5;124m\"\u001B[39m)\n",
      "\u001B[0;31mKeyError\u001B[0m: 'False: boolean label can not be used without a boolean index'"
     ]
    }
   ],
   "source": [
    "f = pd.merge(t, u, on=\"user_id\", suffixes=('_trxn', '_user'))\n",
    "f = f.loc[(\"is_blocked_user\" == False) & (\"is_blocked_trxn\" == False)]\n"
   ],
   "metadata": {
    "collapsed": false,
    "pycharm": {
     "name": "#%%\n"
    }
   }
  },
  {
   "cell_type": "markdown",
   "source": [
    "## Pandas"
   ],
   "metadata": {
    "collapsed": false,
    "pycharm": {
     "name": "#%% md\n"
    }
   }
  },
  {
   "cell_type": "code",
   "metadata": {
    "pycharm": {
     "name": "#%%\n"
    }
   },
   "source": [
    "# read data\n",
    "t = pd.read_csv(find_path(\"transactions.csv\"))\n",
    "u = pd.read_csv(find_path(\"users.csv\"))\n",
    "\n",
    "# join and filter\n",
    "f = pd.merge(t, u, on=\"user_id\", suffixes=('_trxn', '_user'))\n",
    "f = f.loc[(f.is_blocked_user == False) & (f.is_blocked_trxn == False)]\n",
    "\n",
    "\n",
    "# group and agregate\n",
    "res = (\n",
    "    f\n",
    "    .groupby(\"transaction_category_id\", as_index=False)\n",
    "    .agg(\n",
    "        {\n",
    "            'transaction_amount': \"sum\",\n",
    "            'user_id':            \"nunique\"\n",
    "        }\n",
    "    )\n",
    "    .rename(columns=\n",
    "        {\n",
    "            'transaction_amount': 'sum_amount',\n",
    "            'user_id':            'num_users'\n",
    "        }\n",
    "    )\n",
    "    .sort_values(by=['sum_amount'], ascending=False)\n",
    ")"
   ],
   "execution_count": null,
   "outputs": []
  },
  {
   "cell_type": "code",
   "execution_count": 8,
   "metadata": {
    "pycharm": {
     "name": "#%%\n"
    }
   },
   "outputs": [],
   "source": [
    "t = pd.read_csv(find_path(\"transactions.csv\"))\n",
    "u = pd.read_csv(find_path(\"users.csv\"))\n",
    "\n",
    "# join and filter\n",
    "f = pd.merge(t, u, on=\"user_id\", suffixes=('_trxn', '_user'))\n",
    "f = f.loc[(f.is_blocked_user == False) & (f.is_blocked_trxn == False)]\n",
    "\n",
    "\n",
    "# group and agregate\n",
    "res = (\n",
    "    f\n",
    "    .groupby(\"transaction_category_id\", as_index=False)\n",
    "    .agg(\n",
    "        {\n",
    "            'transaction_amount': \"sum\",\n",
    "            'user_id':            \"nunique\"\n",
    "        }\n",
    "    )\n",
    "    .rename(columns=\n",
    "        {\n",
    "            'transaction_amount': 'sum_amount',\n",
    "            'user_id':            'num_users'\n",
    "        }\n",
    "    )\n",
    "    .sort_values(by=['sum_amount'], ascending=False)\n",
    ")"
   ]
  },
  {
   "cell_type": "code",
   "execution_count": 4,
   "metadata": {
    "pycharm": {
     "name": "#%%\n"
    }
   },
   "outputs": [
    {
     "data": {
      "text/html": [
       "<div>\n",
       "<style scoped>\n",
       "    .dataframe tbody tr th:only-of-type {\n",
       "        vertical-align: middle;\n",
       "    }\n",
       "\n",
       "    .dataframe tbody tr th {\n",
       "        vertical-align: top;\n",
       "    }\n",
       "\n",
       "    .dataframe thead th {\n",
       "        text-align: right;\n",
       "    }\n",
       "</style>\n",
       "<table border=\"1\" class=\"dataframe\">\n",
       "  <thead>\n",
       "    <tr style=\"text-align: right;\">\n",
       "      <th></th>\n",
       "      <th>transaction_category_id</th>\n",
       "      <th>sum_amount</th>\n",
       "      <th>num_users</th>\n",
       "    </tr>\n",
       "  </thead>\n",
       "  <tbody>\n",
       "    <tr>\n",
       "      <th>2</th>\n",
       "      <td>2</td>\n",
       "      <td>5798.38</td>\n",
       "      <td>752</td>\n",
       "    </tr>\n",
       "    <tr>\n",
       "      <th>7</th>\n",
       "      <td>7</td>\n",
       "      <td>1305.54</td>\n",
       "      <td>63</td>\n",
       "    </tr>\n",
       "    <tr>\n",
       "      <th>8</th>\n",
       "      <td>8</td>\n",
       "      <td>-44.61</td>\n",
       "      <td>22</td>\n",
       "    </tr>\n",
       "    <tr>\n",
       "      <th>1</th>\n",
       "      <td>1</td>\n",
       "      <td>-732.80</td>\n",
       "      <td>734</td>\n",
       "    </tr>\n",
       "    <tr>\n",
       "      <th>6</th>\n",
       "      <td>6</td>\n",
       "      <td>-1975.81</td>\n",
       "      <td>200</td>\n",
       "    </tr>\n",
       "    <tr>\n",
       "      <th>5</th>\n",
       "      <td>5</td>\n",
       "      <td>-5241.47</td>\n",
       "      <td>408</td>\n",
       "    </tr>\n",
       "    <tr>\n",
       "      <th>0</th>\n",
       "      <td>0</td>\n",
       "      <td>-12952.93</td>\n",
       "      <td>538</td>\n",
       "    </tr>\n",
       "    <tr>\n",
       "      <th>3</th>\n",
       "      <td>3</td>\n",
       "      <td>-14186.12</td>\n",
       "      <td>693</td>\n",
       "    </tr>\n",
       "    <tr>\n",
       "      <th>4</th>\n",
       "      <td>4</td>\n",
       "      <td>-17524.64</td>\n",
       "      <td>596</td>\n",
       "    </tr>\n",
       "  </tbody>\n",
       "</table>\n",
       "</div>"
      ],
      "text/plain": [
       "   transaction_category_id  sum_amount  num_users\n",
       "2                        2     5798.38        752\n",
       "7                        7     1305.54         63\n",
       "8                        8      -44.61         22\n",
       "1                        1     -732.80        734\n",
       "6                        6    -1975.81        200\n",
       "5                        5    -5241.47        408\n",
       "0                        0   -12952.93        538\n",
       "3                        3   -14186.12        693\n",
       "4                        4   -17524.64        596"
      ]
     },
     "execution_count": 4,
     "metadata": {},
     "output_type": "execute_result"
    }
   ],
   "source": [
    "res"
   ]
  },
  {
   "cell_type": "markdown",
   "metadata": {
    "pycharm": {
     "name": "#%% md\n"
    }
   },
   "source": [
    "## Polars"
   ]
  },
  {
   "cell_type": "code",
   "execution_count": 5,
   "metadata": {
    "pycharm": {
     "name": "#%%\n"
    }
   },
   "outputs": [],
   "source": [
    "# read data\n",
    "t = pl.read_csv(find_path(\"transactions.csv\"))\n",
    "u = pl.read_csv(find_path(\"users.csv\"))\n",
    "\n",
    "\n",
    "# join, filter, group and agregate\n",
    "res = (\n",
    "    t\n",
    "    .join(u, on=\"user_id\", suffix=\"_user\")\n",
    "    .filter((pl.col(\"is_blocked\") == False) & (pl.col(\"is_blocked_user\") == False))\n",
    "\n",
    "    .groupby(\"transaction_category_id\")\n",
    "    .agg(\n",
    "        [\n",
    "            pl.sum     (\"transaction_amount\").alias(\"sum_amount\"),\n",
    "            pl.n_unique(\"user_id\")           .alias(\"num_users\"),\n",
    "        ]\n",
    "    )\n",
    "    .sort(\"sum_amount\", reverse=True)\n",
    ")"
   ]
  },
  {
   "cell_type": "code",
   "execution_count": 6,
   "metadata": {
    "pycharm": {
     "name": "#%%\n"
    }
   },
   "outputs": [
    {
     "data": {
      "text/html": [
       "<div>\n",
       "<style scoped>\n",
       "    .dataframe tbody tr th:only-of-type {\n",
       "        vertical-align: middle;\n",
       "    }\n",
       "\n",
       "    .dataframe tbody tr th {\n",
       "        vertical-align: top;\n",
       "    }\n",
       "\n",
       "    .dataframe thead th {\n",
       "        text-align: right;\n",
       "    }\n",
       "</style>\n",
       "<table border=\"1 \"class=\"dataframe \">\n",
       "<thead>\n",
       "<tr>\n",
       "<th>\n",
       "transaction_category_id\n",
       "</th>\n",
       "<th>\n",
       "sum_amount\n",
       "</th>\n",
       "<th>\n",
       "num_users\n",
       "</th>\n",
       "</tr>\n",
       "<tr>\n",
       "<td>\n",
       "i64\n",
       "</td>\n",
       "<td>\n",
       "f64\n",
       "</td>\n",
       "<td>\n",
       "u32\n",
       "</td>\n",
       "</tr>\n",
       "</thead>\n",
       "<tbody>\n",
       "<tr>\n",
       "<td>\n",
       "<pre>2</pre>\n",
       "</td>\n",
       "<td>\n",
       "<pre>5798.38</pre>\n",
       "</td>\n",
       "<td>\n",
       "<pre>752</pre>\n",
       "</td>\n",
       "</tr>\n",
       "<tr>\n",
       "<td>\n",
       "<pre>7</pre>\n",
       "</td>\n",
       "<td>\n",
       "<pre>1305.54</pre>\n",
       "</td>\n",
       "<td>\n",
       "<pre>63</pre>\n",
       "</td>\n",
       "</tr>\n",
       "<tr>\n",
       "<td>\n",
       "<pre>8</pre>\n",
       "</td>\n",
       "<td>\n",
       "<pre>-44.61</pre>\n",
       "</td>\n",
       "<td>\n",
       "<pre>22</pre>\n",
       "</td>\n",
       "</tr>\n",
       "<tr>\n",
       "<td>\n",
       "<pre>1</pre>\n",
       "</td>\n",
       "<td>\n",
       "<pre>-732.8</pre>\n",
       "</td>\n",
       "<td>\n",
       "<pre>734</pre>\n",
       "</td>\n",
       "</tr>\n",
       "<tr>\n",
       "<td>\n",
       "<pre>6</pre>\n",
       "</td>\n",
       "<td>\n",
       "<pre>-1975.81</pre>\n",
       "</td>\n",
       "<td>\n",
       "<pre>200</pre>\n",
       "</td>\n",
       "</tr>\n",
       "<tr>\n",
       "<td>\n",
       "<pre>5</pre>\n",
       "</td>\n",
       "<td>\n",
       "<pre>-5241.47</pre>\n",
       "</td>\n",
       "<td>\n",
       "<pre>408</pre>\n",
       "</td>\n",
       "</tr>\n",
       "<tr>\n",
       "<td>\n",
       "<pre>0</pre>\n",
       "</td>\n",
       "<td>\n",
       "<pre>-12952.93</pre>\n",
       "</td>\n",
       "<td>\n",
       "<pre>538</pre>\n",
       "</td>\n",
       "</tr>\n",
       "<tr>\n",
       "<td>\n",
       "<pre>3</pre>\n",
       "</td>\n",
       "<td>\n",
       "<pre>-14186.12</pre>\n",
       "</td>\n",
       "<td>\n",
       "<pre>693</pre>\n",
       "</td>\n",
       "</tr>\n",
       "<tr>\n",
       "<td>\n",
       "<pre>4</pre>\n",
       "</td>\n",
       "<td>\n",
       "<pre>-17524.64</pre>\n",
       "</td>\n",
       "<td>\n",
       "<pre>596</pre>\n",
       "</td>\n",
       "</tr>\n",
       "</tbody>\n",
       "</table>\n",
       "</div>"
      ],
      "text/plain": [
       "shape: (9, 3)\n",
       "┌─────────────────────────┬────────────┬───────────┐\n",
       "│ transaction_category_id ┆ sum_amount ┆ num_users │\n",
       "│ ---                     ┆ ---        ┆ ---       │\n",
       "│ i64                     ┆ f64        ┆ u32       │\n",
       "╞═════════════════════════╪════════════╪═══════════╡\n",
       "│ 2                       ┆ 5798.38    ┆ 752       │\n",
       "├╌╌╌╌╌╌╌╌╌╌╌╌╌╌╌╌╌╌╌╌╌╌╌╌╌┼╌╌╌╌╌╌╌╌╌╌╌╌┼╌╌╌╌╌╌╌╌╌╌╌┤\n",
       "│ 7                       ┆ 1305.54    ┆ 63        │\n",
       "├╌╌╌╌╌╌╌╌╌╌╌╌╌╌╌╌╌╌╌╌╌╌╌╌╌┼╌╌╌╌╌╌╌╌╌╌╌╌┼╌╌╌╌╌╌╌╌╌╌╌┤\n",
       "│ 8                       ┆ -44.61     ┆ 22        │\n",
       "├╌╌╌╌╌╌╌╌╌╌╌╌╌╌╌╌╌╌╌╌╌╌╌╌╌┼╌╌╌╌╌╌╌╌╌╌╌╌┼╌╌╌╌╌╌╌╌╌╌╌┤\n",
       "│ 1                       ┆ -732.8     ┆ 734       │\n",
       "├╌╌╌╌╌╌╌╌╌╌╌╌╌╌╌╌╌╌╌╌╌╌╌╌╌┼╌╌╌╌╌╌╌╌╌╌╌╌┼╌╌╌╌╌╌╌╌╌╌╌┤\n",
       "│ ...                     ┆ ...        ┆ ...       │\n",
       "├╌╌╌╌╌╌╌╌╌╌╌╌╌╌╌╌╌╌╌╌╌╌╌╌╌┼╌╌╌╌╌╌╌╌╌╌╌╌┼╌╌╌╌╌╌╌╌╌╌╌┤\n",
       "│ 5                       ┆ -5241.47   ┆ 408       │\n",
       "├╌╌╌╌╌╌╌╌╌╌╌╌╌╌╌╌╌╌╌╌╌╌╌╌╌┼╌╌╌╌╌╌╌╌╌╌╌╌┼╌╌╌╌╌╌╌╌╌╌╌┤\n",
       "│ 0                       ┆ -12952.93  ┆ 538       │\n",
       "├╌╌╌╌╌╌╌╌╌╌╌╌╌╌╌╌╌╌╌╌╌╌╌╌╌┼╌╌╌╌╌╌╌╌╌╌╌╌┼╌╌╌╌╌╌╌╌╌╌╌┤\n",
       "│ 3                       ┆ -14186.12  ┆ 693       │\n",
       "├╌╌╌╌╌╌╌╌╌╌╌╌╌╌╌╌╌╌╌╌╌╌╌╌╌┼╌╌╌╌╌╌╌╌╌╌╌╌┼╌╌╌╌╌╌╌╌╌╌╌┤\n",
       "│ 4                       ┆ -17524.64  ┆ 596       │\n",
       "└─────────────────────────┴────────────┴───────────┘"
      ]
     },
     "execution_count": 6,
     "metadata": {},
     "output_type": "execute_result"
    }
   ],
   "source": [
    "res"
   ]
  },
  {
   "cell_type": "code",
   "execution_count": null,
   "metadata": {},
   "outputs": [],
   "source": []
  }
 ],
 "metadata": {
  "kernelspec": {
   "display_name": "Python 3 (ipykernel)",
   "language": "python",
   "name": "python3"
  },
  "language_info": {
   "codemirror_mode": {
    "name": "ipython",
    "version": 3
   },
   "file_extension": ".py",
   "mimetype": "text/x-python",
   "name": "python",
   "nbconvert_exporter": "python",
   "pygments_lexer": "ipython3",
   "version": "3.8.9"
  }
 },
 "nbformat": 4,
 "nbformat_minor": 1
}